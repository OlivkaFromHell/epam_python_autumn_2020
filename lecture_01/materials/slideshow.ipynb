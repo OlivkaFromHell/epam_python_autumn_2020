{
 "cells": [
  {
   "cell_type": "markdown",
   "source": [
    "# Python (EPAM, 2020), lecture 01"
   ],
   "metadata": {
    "collapsed": true,
    "pycharm": {
     "name": "#%% md\n"
    }
   }
  },
  {
   "cell_type": "markdown",
   "source": [
    "## What the `python` is?\r\n",
    "\r\n",
    "> Python is a simple, yet powerful, interpreted programming language that bridges the gap between C and shell programming, and is thus ideally suited for \"throw-away programming\" and rapid prototyping\r\n",
    "\r\n",
    "(c) [python 1.4 ref](https://docs.python.org/release/1.4/ref/ref0.html#HDT0)\r\n",
    "\r\n",
    "> Python is an easy to learn, powerful programming language. It has efficient high-level data structures and a simple but effective approach to object-oriented programming. Python’s elegant syntax and dynamic typing, together with its interpreted nature, make it an ideal language for scripting and rapid application development in many areas on most platforms.\r\n",
    "\r\n",
    "(c) [python 3.9 ref](https://docs.python.org/release/3.9.0/tutorial/index.html#tutorial-index)"
   ],
   "metadata": {
    "pycharm": {
     "name": "#%% md\n"
    }
   }
  },
  {
   "cell_type": "markdown",
   "source": [
    "**Keywords**:\r\n",
    "1. easy to learn?\r\n",
    "1. high-level data structures? stdlib with batteries inside. By the way sometimes they [remove dead batteries](https://www.python.org/dev/peps/pep-0594/)\r\n",
    "1. elegant syntax? For us it means: [PEP-8](https://www.python.org/dev/peps/pep-0008/), `black` + `isort` formatting\r\n",
    "1. dynamic types? duck typing!"
   ],
   "metadata": {
    "pycharm": {
     "name": "#%% md\n"
    }
   }
  },
  {
   "cell_type": "code",
   "execution_count": 13,
   "source": [
    "foo = 5\r\n",
    "bar = foo + 5"
   ],
   "outputs": [],
   "metadata": {
    "pycharm": {
     "name": "#%%\n"
    }
   }
  },
  {
   "cell_type": "code",
   "execution_count": 14,
   "source": [
    "baz = bar + \"bar\""
   ],
   "outputs": [
    {
     "output_type": "error",
     "ename": "TypeError",
     "evalue": "unsupported operand type(s) for +: 'int' and 'str'",
     "traceback": [
      "\u001b[1;31m---------------------------------------------------------------------------\u001b[0m",
      "\u001b[1;31mTypeError\u001b[0m                                 Traceback (most recent call last)",
      "\u001b[1;32m<ipython-input-14-165febc7f5f4>\u001b[0m in \u001b[0;36m<module>\u001b[1;34m\u001b[0m\n\u001b[1;32m----> 1\u001b[1;33m \u001b[0mbaz\u001b[0m \u001b[1;33m=\u001b[0m \u001b[0mbar\u001b[0m \u001b[1;33m+\u001b[0m \u001b[1;34m\"bar\"\u001b[0m\u001b[1;33m\u001b[0m\u001b[1;33m\u001b[0m\u001b[0m\n\u001b[0m",
      "\u001b[1;31mTypeError\u001b[0m: unsupported operand type(s) for +: 'int' and 'str'"
     ]
    }
   ],
   "metadata": {
    "pycharm": {
     "name": "#%%\n"
    }
   }
  },
  {
   "cell_type": "markdown",
   "source": [
    "## Python types\r\n",
    "\r\n",
    "![python_types.png](img/python_types.png)\r\n",
    "\r\n",
    "\r\n",
    "_Note_:\r\n",
    "Some data types such as [`Ellipsis`](https://stackoverflow.com/questions/772124/what-does-the-ellipsis-object-do) are not presented here ^"
   ],
   "metadata": {
    "pycharm": {
     "name": "#%% md\n"
    }
   }
  },
  {
   "cell_type": "markdown",
   "source": [
    "### Lets check some variables type"
   ],
   "metadata": {}
  },
  {
   "cell_type": "code",
   "execution_count": 9,
   "source": [
    "a = 6\r\n",
    "b = object()\r\n",
    "c = [1, 2, 3, 4, 5, 6]\r\n",
    "d = ...\r\n",
    "\r\n",
    "\r\n",
    "def e():\r\n",
    "    ...\r\n",
    "\r\n",
    "\r\n",
    "class F(list):\r\n",
    "    pass\r\n",
    "\r\n",
    "\r\n",
    "for var in (a, b, c, d, e, F):\r\n",
    "    print(f\"{var=}, its type is {type(var)=}\")\r\n",
    "\r\n",
    "print(f\"type of 6.0 {type(6.0)}\")"
   ],
   "outputs": [
    {
     "output_type": "stream",
     "name": "stdout",
     "text": [
      "var=6, its type is type(var)=<class 'int'>\n",
      "var=<object object at 0x0000016E80A18EB0>, its type is type(var)=<class 'object'>\n",
      "var=[1, 2, 3, 4, 5, 6], its type is type(var)=<class 'list'>\n",
      "var=Ellipsis, its type is type(var)=<class 'ellipsis'>\n",
      "var=<function e at 0x0000016E819AAF70>, its type is type(var)=<class 'function'>\n",
      "var=<class '__main__.F'>, its type is type(var)=<class 'type'>\n",
      "type of 6.0 <class 'float'>\n"
     ]
    }
   ],
   "metadata": {
    "pycharm": {
     "name": "#%%\n"
    }
   }
  },
  {
   "cell_type": "markdown",
   "source": [
    "_Note_: even if I showed it, do not use `type()` for type-checking :-)\n",
    "\n",
    "Usually type check is performed using `isinstance(...)` function"
   ],
   "metadata": {}
  },
  {
   "cell_type": "markdown",
   "source": [
    "## Python statements\n",
    "\n",
    "How can we operate with data?"
   ],
   "metadata": {}
  },
  {
   "cell_type": "markdown",
   "source": [
    "### Conditions"
   ],
   "metadata": {
    "pycharm": {
     "name": "#%% md\n"
    }
   }
  },
  {
   "cell_type": "code",
   "execution_count": 12,
   "source": [
    "a, b = 5, 5\r\n",
    "\r\n",
    "\r\n",
    "if a < b:\r\n",
    "    print(f\"{a=} is the less than other variable\")\r\n",
    "elif b < a:\r\n",
    "    print(f\"{b=} is the less than other variable\")\r\n",
    "else:\r\n",
    "    print(f\"Seems like a == b == {a}\")"
   ],
   "outputs": [
    {
     "output_type": "stream",
     "name": "stdout",
     "text": [
      "Seems like a == b == 5\n"
     ]
    }
   ],
   "metadata": {
    "pycharm": {
     "name": "#%%\n"
    }
   }
  },
  {
   "cell_type": "markdown",
   "source": [
    "### Iterations and loops"
   ],
   "metadata": {
    "pycharm": {
     "name": "#%% md\n"
    }
   }
  },
  {
   "cell_type": "code",
   "execution_count": 13,
   "source": [
    "for val in [1, 2, 3, 4, 5, 6]:\r\n",
    "    print(f\"{val=}\", end=\" \")\r\n",
    "else:\r\n",
    "    print(\"That's all, folks!\")\r\n",
    "\r\n",
    "i = 63215\r\n",
    "\r\n",
    "while i & (i - 1):\r\n",
    "    i += 1\r\n",
    "\r\n",
    "print(f\"{i=}\")"
   ],
   "outputs": [
    {
     "output_type": "stream",
     "name": "stdout",
     "text": [
      "val=1 val=2 val=3 val=4 val=5 val=6 That's all, folks!\n",
      "i=65536\n"
     ]
    }
   ],
   "metadata": {
    "pycharm": {
     "name": "#%%\n"
    }
   }
  },
  {
   "cell_type": "markdown",
   "source": [
    "### Falsy values\n",
    "\n",
    "The above examples shows Falsy values usage ([doc reference](https://docs.python.org/3/library/stdtypes.html#truth-value-testing))."
   ],
   "metadata": {}
  },
  {
   "cell_type": "code",
   "execution_count": 3,
   "source": [
    "from decimal import Decimal\r\n",
    "from fractions import Fraction\r\n",
    "\r\n",
    "\r\n",
    "just_falsy_values = [False, None]\r\n",
    "numeric_falsy_values = [0, 0.0, 0j, Decimal(0), Fraction(0, 1)]\r\n",
    "empty_sequencies_and_collections = [[], (), \"\", range(0), {}, set()]\r\n",
    "\r\n",
    "\r\n",
    "assert not any(just_falsy_values)\r\n",
    "assert not any(numeric_falsy_values)\r\n",
    "assert not any(empty_sequencies_and_collections)"
   ],
   "outputs": [],
   "metadata": {
    "pycharm": {
     "name": "#%%\n"
    }
   }
  },
  {
   "cell_type": "markdown",
   "source": [
    "How could we use it?\n"
   ],
   "metadata": {
    "pycharm": {
     "name": "#%% md\n"
    }
   }
  },
  {
   "cell_type": "code",
   "execution_count": 16,
   "source": [
    "# this code probably contain bugs...\r\n",
    "\r\n",
    "\r\n",
    "def _check_window(x: int, y: int, z: int) -> bool:\r\n",
    "    return (x + y) == z\r\n",
    "\r\n",
    "\r\n",
    "data_to_process = [0, 1, 1, 2, 3, 5, 8, 13, 21, 34, 55, 89, 144, 233, 377, 610, 987, 1597, 2584, 4181, 6765]\r\n",
    "\r\n",
    "\r\n",
    "assert len(data_to_process) >= 3\r\n",
    "\r\n",
    "a, b, c = data_to_process[0], data_to_process[1], data_to_process[2]\r\n",
    "\r\n",
    "while data_to_process:\r\n",
    "    if not _check_window(a, b, c):\r\n",
    "        raise ValueError(\"Invalid data\")\r\n",
    "\r\n",
    "    if len(data_to_process) != 3:\r\n",
    "        a, b, c = b, c, data_to_process[3]\r\n",
    "        data_to_process = data_to_process[1:]\r\n",
    "    else:\r\n",
    "        data_to_process = []\r\n",
    "\r\n",
    "print(\"it's a fib sequence!\")"
   ],
   "outputs": [
    {
     "output_type": "error",
     "ename": "ValueError",
     "evalue": "Invalid data",
     "traceback": [
      "\u001b[1;31m---------------------------------------------------------------------------\u001b[0m",
      "\u001b[1;31mValueError\u001b[0m                                Traceback (most recent call last)",
      "\u001b[1;32m<ipython-input-16-1a135a3d7214>\u001b[0m in \u001b[0;36m<module>\u001b[1;34m\u001b[0m\n\u001b[0;32m     15\u001b[0m \u001b[1;32mwhile\u001b[0m \u001b[0mdata_to_process\u001b[0m\u001b[1;33m:\u001b[0m\u001b[1;33m\u001b[0m\u001b[1;33m\u001b[0m\u001b[0m\n\u001b[0;32m     16\u001b[0m     \u001b[1;32mif\u001b[0m \u001b[1;32mnot\u001b[0m \u001b[0m_check_window\u001b[0m\u001b[1;33m(\u001b[0m\u001b[0ma\u001b[0m\u001b[1;33m,\u001b[0m \u001b[0mb\u001b[0m\u001b[1;33m,\u001b[0m \u001b[0mc\u001b[0m\u001b[1;33m)\u001b[0m\u001b[1;33m:\u001b[0m\u001b[1;33m\u001b[0m\u001b[1;33m\u001b[0m\u001b[0m\n\u001b[1;32m---> 17\u001b[1;33m         \u001b[1;32mraise\u001b[0m \u001b[0mValueError\u001b[0m\u001b[1;33m(\u001b[0m\u001b[1;34m\"Invalid data\"\u001b[0m\u001b[1;33m)\u001b[0m\u001b[1;33m\u001b[0m\u001b[1;33m\u001b[0m\u001b[0m\n\u001b[0m\u001b[0;32m     18\u001b[0m \u001b[1;33m\u001b[0m\u001b[0m\n\u001b[0;32m     19\u001b[0m     \u001b[1;32mif\u001b[0m \u001b[0mlen\u001b[0m\u001b[1;33m(\u001b[0m\u001b[0mdata_to_process\u001b[0m\u001b[1;33m)\u001b[0m \u001b[1;33m!=\u001b[0m \u001b[1;36m3\u001b[0m\u001b[1;33m:\u001b[0m\u001b[1;33m\u001b[0m\u001b[1;33m\u001b[0m\u001b[0m\n",
      "\u001b[1;31mValueError\u001b[0m: Invalid data"
     ]
    }
   ],
   "metadata": {
    "pycharm": {
     "name": "#%%\n"
    }
   }
  },
  {
   "cell_type": "markdown",
   "source": [
    "## What else should we know to complete homework?\r\n",
    "\r\n",
    "### How to start working?\r\n",
    "1. set up your git repository in github\r\n",
    "1. install >= python3.8 onto your system\r\n",
    "1. create a virtualenv with the python ([ref](https://docs.python.org/3/library/venv.html), [s/o](https://stackoverflow.com/questions/35017160/how-to-use-virtualenv-with-python))\r\n",
    "1. activate it\r\n",
    "1. install packages using `pip` and `requirements.txt` file (`pip install -r requirements.txt`)\r\n",
    "1. ...\r\n",
    "1. PROFIT!\r\n",
    "\r\n",
    "![profit.jpg](img/profit.jpg)\r\n",
    "\r\n",
    "### Which IDE do we recommend?\r\n",
    "Either `PyCharm` or `VSCode`. Feel free to use what you want\r\n",
    "\r\n",
    "Some IDE-related links links:\r\n",
    "1. [download](https://www.jetbrains.com/ru-ru/pycharm/download) `PyCharm` (Community Edition is free)\r\n",
    "1. [download](https://code.visualstudio.com) `VSCode`\r\n",
    "1. HOWTO debug in `PyCharm` ([link](https://www.jetbrains.com/help/pycharm/debugging-your-first-python-application.html#where-is-the-problem))\r\n",
    "\r\n",
    "\r\n",
    "### How to organize your code?\r\n",
    "Each homework should follow the `sample_project/` structure:\r\n",
    "1. use a dedicated directory for hw\r\n",
    "1. add a python package for source\r\n",
    "1. add `tests/` dir\r\n",
    "\r\n",
    "### How to test your code?\r\n",
    "\r\n",
    "We need to do several things:\r\n",
    "1. install `pytest` (and `pytest-sugar` if you want)\r\n",
    "1. write the tests!\r\n",
    "\r\n",
    "### How to write the tests?\r\n",
    "Please check out `sample_project/`\r\n",
    "\r\n",
    "### How to check if your code might be accepted\r\n",
    "\r\n",
    "We do not accept the code, which is not well-formatted. **Without any exceptions**.\r\n",
    "\r\n",
    "To ensure that your code can be accepted, please:\r\n",
    "1. install `black` and `isort` to your venv\r\n",
    "1. add pre-commit hook with `black` and `isort` invocation ([howto](https://githooks.com/))"
   ],
   "metadata": {
    "pycharm": {
     "name": "#%% md\n"
    }
   }
  },
  {
   "cell_type": "code",
   "execution_count": null,
   "source": [
    "dd"
   ],
   "outputs": [],
   "metadata": {}
  }
 ],
 "metadata": {
  "kernelspec": {
   "name": "python3",
   "display_name": "Python 3.9.5 64-bit"
  },
  "language_info": {
   "codemirror_mode": {
    "name": "ipython",
    "version": 3
   },
   "file_extension": ".py",
   "mimetype": "text/x-python",
   "name": "python",
   "nbconvert_exporter": "python",
   "pygments_lexer": "ipython3",
   "version": "3.9.5"
  },
  "interpreter": {
   "hash": "b5df46f169a46cc0301b596ea3a825e7a241694ae8cbde9f7a4bb4b5dcc0e98a"
  }
 },
 "nbformat": 4,
 "nbformat_minor": 1
}